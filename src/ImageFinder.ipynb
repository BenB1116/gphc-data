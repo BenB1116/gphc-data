{
 "cells": [
  {
   "cell_type": "code",
   "execution_count": 6,
   "id": "2948f00c",
   "metadata": {},
   "outputs": [],
   "source": [
    "import pandas as pd\n",
    "import gzip\n",
    "import json\n"
   ]
  },
  {
   "cell_type": "code",
   "execution_count": 15,
   "id": "2c46e529",
   "metadata": {},
   "outputs": [],
   "source": [
    "def parse_fields(line):\n",
    "    data = json.loads(line)\n",
    "    return {\n",
    "        \"goodreads_id\": data[\"book_id\"], \n",
    "        \"title\": data[\"title_without_series\"],  \n",
    "        \"cover_image\": data[\"image_url\"],\n",
    "        \"ratings\": data[\"ratings_count\"]\n",
    "    }"
   ]
  },
  {
   "cell_type": "code",
   "execution_count": 16,
   "id": "9c8ec10a",
   "metadata": {},
   "outputs": [],
   "source": [
    "books_titles = []\n",
    "with gzip.open(r\"C:\\Users\\Ben\\Desktop\\gphc-data\\goodreads_books.json.gz\") as f:\n",
    "    while True:\n",
    "        line = f.readline()\n",
    "        if not line:\n",
    "            break\n",
    "        fields = parse_fields(line)\n",
    "        try:\n",
    "            ratings = int(fields[\"ratings\"])\n",
    "        except ValueError:\n",
    "            continue\n",
    "        if ratings > 5:\n",
    "            books_titles.append(fields)"
   ]
  },
  {
   "cell_type": "code",
   "execution_count": 19,
   "id": "0f09ddcf",
   "metadata": {},
   "outputs": [
    {
     "name": "stdout",
     "output_type": "stream",
     "text": [
      "{'goodreads_id': '89371', 'title': 'The Te Of Piglet', 'cover_image': 'https://s.gr-assets.com/assets/nophoto/book/111x148-bcc042a9c91a29c1d680899eff700a03.png', 'ratings': '11'}\n"
     ]
    }
   ],
   "source": [
    "print(books_titles[10])"
   ]
  },
  {
   "cell_type": "code",
   "execution_count": 23,
   "id": "2cb19a3f",
   "metadata": {},
   "outputs": [],
   "source": [
    "titles = pd.DataFrame.from_dict(books_titles)"
   ]
  },
  {
   "cell_type": "code",
   "execution_count": 26,
   "id": "83d33093",
   "metadata": {},
   "outputs": [],
   "source": [
    "titles[\"ratings\"] = pd.to_numeric(titles[\"ratings\"])\n",
    "titles[\"mod_title\"] = titles[\"title\"].str.replace(\"[^a-zA-Z0-9 ]\", \"\", regex=True)\n",
    "titles[\"mod_title\"] = titles[\"mod_title\"].str.lower()\n",
    "titles[\"mod_title\"] = titles[\"mod_title\"].str.replace(\"\\s+\", \" \", regex=True)\n",
    "titles = titles[titles[\"mod_title\"].str.len() > 0]"
   ]
  },
  {
   "cell_type": "code",
   "execution_count": 27,
   "id": "39b9c5db",
   "metadata": {},
   "outputs": [
    {
     "data": {
      "text/html": [
       "<div>\n",
       "<style scoped>\n",
       "    .dataframe tbody tr th:only-of-type {\n",
       "        vertical-align: middle;\n",
       "    }\n",
       "\n",
       "    .dataframe tbody tr th {\n",
       "        vertical-align: top;\n",
       "    }\n",
       "\n",
       "    .dataframe thead th {\n",
       "        text-align: right;\n",
       "    }\n",
       "</style>\n",
       "<table border=\"1\" class=\"dataframe\">\n",
       "  <thead>\n",
       "    <tr style=\"text-align: right;\">\n",
       "      <th></th>\n",
       "      <th>goodreads_id</th>\n",
       "      <th>title</th>\n",
       "      <th>cover_image</th>\n",
       "      <th>ratings</th>\n",
       "      <th>mod_title</th>\n",
       "    </tr>\n",
       "  </thead>\n",
       "  <tbody>\n",
       "    <tr>\n",
       "      <th>0</th>\n",
       "      <td>1333909</td>\n",
       "      <td>Good Harbor</td>\n",
       "      <td>https://s.gr-assets.com/assets/nophoto/book/11...</td>\n",
       "      <td>10</td>\n",
       "      <td>good harbor</td>\n",
       "    </tr>\n",
       "    <tr>\n",
       "      <th>1</th>\n",
       "      <td>7327624</td>\n",
       "      <td>The Unschooled Wizard (Sun Wolf and Starhawk, ...</td>\n",
       "      <td>https://images.gr-assets.com/books/1304100136m...</td>\n",
       "      <td>140</td>\n",
       "      <td>the unschooled wizard sun wolf and starhawk 12</td>\n",
       "    </tr>\n",
       "    <tr>\n",
       "      <th>2</th>\n",
       "      <td>6066819</td>\n",
       "      <td>Best Friends Forever</td>\n",
       "      <td>https://s.gr-assets.com/assets/nophoto/book/11...</td>\n",
       "      <td>51184</td>\n",
       "      <td>best friends forever</td>\n",
       "    </tr>\n",
       "    <tr>\n",
       "      <th>3</th>\n",
       "      <td>287140</td>\n",
       "      <td>Runic Astrology: Starcraft and Timekeeping in ...</td>\n",
       "      <td>https://images.gr-assets.com/books/1413219371m...</td>\n",
       "      <td>15</td>\n",
       "      <td>runic astrology starcraft and timekeeping in t...</td>\n",
       "    </tr>\n",
       "    <tr>\n",
       "      <th>4</th>\n",
       "      <td>287141</td>\n",
       "      <td>The Aeneid for Boys and Girls</td>\n",
       "      <td>https://s.gr-assets.com/assets/nophoto/book/11...</td>\n",
       "      <td>46</td>\n",
       "      <td>the aeneid for boys and girls</td>\n",
       "    </tr>\n",
       "  </tbody>\n",
       "</table>\n",
       "</div>"
      ],
      "text/plain": [
       "  goodreads_id                                              title  \\\n",
       "0      1333909                                        Good Harbor   \n",
       "1      7327624  The Unschooled Wizard (Sun Wolf and Starhawk, ...   \n",
       "2      6066819                               Best Friends Forever   \n",
       "3       287140  Runic Astrology: Starcraft and Timekeeping in ...   \n",
       "4       287141                      The Aeneid for Boys and Girls   \n",
       "\n",
       "                                         cover_image  ratings  \\\n",
       "0  https://s.gr-assets.com/assets/nophoto/book/11...       10   \n",
       "1  https://images.gr-assets.com/books/1304100136m...      140   \n",
       "2  https://s.gr-assets.com/assets/nophoto/book/11...    51184   \n",
       "3  https://images.gr-assets.com/books/1413219371m...       15   \n",
       "4  https://s.gr-assets.com/assets/nophoto/book/11...       46   \n",
       "\n",
       "                                           mod_title  \n",
       "0                                        good harbor  \n",
       "1     the unschooled wizard sun wolf and starhawk 12  \n",
       "2                               best friends forever  \n",
       "3  runic astrology starcraft and timekeeping in t...  \n",
       "4                      the aeneid for boys and girls  "
      ]
     },
     "execution_count": 27,
     "metadata": {},
     "output_type": "execute_result"
    }
   ],
   "source": [
    "titles.head()"
   ]
  },
  {
   "cell_type": "code",
   "execution_count": 28,
   "id": "edd55e95",
   "metadata": {},
   "outputs": [],
   "source": [
    "from sklearn.feature_extraction.text import TfidfVectorizer\n",
    "vectorizer = TfidfVectorizer()\n",
    "\n",
    "tfidf = vectorizer.fit_transform(titles[\"mod_title\"])"
   ]
  },
  {
   "cell_type": "code",
   "execution_count": 29,
   "id": "e85a8183",
   "metadata": {},
   "outputs": [],
   "source": [
    "inv_df = pd.read_csv(r\"C:\\Users\\Ben\\Desktop\\gphc-data\\inv_data.csv\")"
   ]
  },
  {
   "cell_type": "code",
   "execution_count": 48,
   "id": "571349ba",
   "metadata": {},
   "outputs": [],
   "source": [
    "from sklearn.metrics.pairwise import cosine_similarity\n",
    "import numpy as np\n",
    "import re\n",
    "\n",
    "def search(query, vectorizer):\n",
    "    processed = re.sub(\"[^a-zA-Z0-9 ]\", \"\", query.lower())\n",
    "    query_vec = vectorizer.transform([query])\n",
    "    similarity = cosine_similarity(query_vec, tfidf).flatten()\n",
    "    indices = np.argpartition(similarity, -10)[-10:]\n",
    "    results = titles.iloc[indices]\n",
    "    results = results.sort_values(\"ratings\", ascending=False)\n",
    "    \n",
    "    return int(results.head(1)['goodreads_id'].values[0])"
   ]
  },
  {
   "cell_type": "code",
   "execution_count": 49,
   "id": "29126765",
   "metadata": {},
   "outputs": [
    {
     "data": {
      "text/plain": [
       "29058155"
      ]
     },
     "execution_count": 49,
     "metadata": {},
     "output_type": "execute_result"
    }
   ],
   "source": [
    "search('harry potter child', vectorizer)"
   ]
  },
  {
   "cell_type": "code",
   "execution_count": 50,
   "id": "b1cb5af8",
   "metadata": {},
   "outputs": [
    {
     "data": {
      "text/html": [
       "<div>\n",
       "<style scoped>\n",
       "    .dataframe tbody tr th:only-of-type {\n",
       "        vertical-align: middle;\n",
       "    }\n",
       "\n",
       "    .dataframe tbody tr th {\n",
       "        vertical-align: top;\n",
       "    }\n",
       "\n",
       "    .dataframe thead th {\n",
       "        text-align: right;\n",
       "    }\n",
       "</style>\n",
       "<table border=\"1\" class=\"dataframe\">\n",
       "  <thead>\n",
       "    <tr style=\"text-align: right;\">\n",
       "      <th></th>\n",
       "      <th>Unnamed: 0</th>\n",
       "      <th>title</th>\n",
       "      <th>author_last</th>\n",
       "      <th>author_first</th>\n",
       "    </tr>\n",
       "  </thead>\n",
       "  <tbody>\n",
       "    <tr>\n",
       "      <th>0</th>\n",
       "      <td>0</td>\n",
       "      <td>of mice and men</td>\n",
       "      <td>steinbeck</td>\n",
       "      <td>john</td>\n",
       "    </tr>\n",
       "    <tr>\n",
       "      <th>1</th>\n",
       "      <td>1</td>\n",
       "      <td>the unforgotten a novel</td>\n",
       "      <td>powell</td>\n",
       "      <td>laura</td>\n",
       "    </tr>\n",
       "    <tr>\n",
       "      <th>2</th>\n",
       "      <td>2</td>\n",
       "      <td>star wars the clone wars</td>\n",
       "      <td>hibbert</td>\n",
       "      <td>clare</td>\n",
       "    </tr>\n",
       "    <tr>\n",
       "      <th>3</th>\n",
       "      <td>3</td>\n",
       "      <td>star wars the clone wars</td>\n",
       "      <td>beecroft</td>\n",
       "      <td>simon</td>\n",
       "    </tr>\n",
       "    <tr>\n",
       "      <th>4</th>\n",
       "      <td>4</td>\n",
       "      <td>wow the pop up book of sports</td>\n",
       "      <td>foster</td>\n",
       "      <td>bruce</td>\n",
       "    </tr>\n",
       "  </tbody>\n",
       "</table>\n",
       "</div>"
      ],
      "text/plain": [
       "   Unnamed: 0                          title author_last author_first\n",
       "0           0                of mice and men   steinbeck         john\n",
       "1           1        the unforgotten a novel      powell        laura\n",
       "2           2      star wars the clone wars      hibbert        clare\n",
       "3           3      star wars the clone wars     beecroft       simon \n",
       "4           4  wow the pop up book of sports      foster       bruce "
      ]
     },
     "execution_count": 50,
     "metadata": {},
     "output_type": "execute_result"
    }
   ],
   "source": [
    "inv_df.head()"
   ]
  },
  {
   "cell_type": "code",
   "execution_count": 54,
   "id": "8da23b21",
   "metadata": {},
   "outputs": [],
   "source": [
    "inv_df['gr_id'] = inv_df['title'].apply(search, vectorizer=vectorizer)"
   ]
  },
  {
   "cell_type": "code",
   "execution_count": 57,
   "id": "03811a66",
   "metadata": {
    "scrolled": true
   },
   "outputs": [
    {
     "data": {
      "text/html": [
       "<div>\n",
       "<style scoped>\n",
       "    .dataframe tbody tr th:only-of-type {\n",
       "        vertical-align: middle;\n",
       "    }\n",
       "\n",
       "    .dataframe tbody tr th {\n",
       "        vertical-align: top;\n",
       "    }\n",
       "\n",
       "    .dataframe thead th {\n",
       "        text-align: right;\n",
       "    }\n",
       "</style>\n",
       "<table border=\"1\" class=\"dataframe\">\n",
       "  <thead>\n",
       "    <tr style=\"text-align: right;\">\n",
       "      <th></th>\n",
       "      <th>Unnamed: 0</th>\n",
       "      <th>title</th>\n",
       "      <th>author_last</th>\n",
       "      <th>author_first</th>\n",
       "      <th>gr_id</th>\n",
       "    </tr>\n",
       "  </thead>\n",
       "  <tbody>\n",
       "    <tr>\n",
       "      <th>10208</th>\n",
       "      <td>10208</td>\n",
       "      <td>sales questions that close every deal 1 000 fi...</td>\n",
       "      <td>gschwandtner</td>\n",
       "      <td>gerhard</td>\n",
       "      <td>23183</td>\n",
       "    </tr>\n",
       "    <tr>\n",
       "      <th>192</th>\n",
       "      <td>192</td>\n",
       "      <td>americas sewing book</td>\n",
       "      <td>ley</td>\n",
       "      <td>sandra</td>\n",
       "      <td>6396253</td>\n",
       "    </tr>\n",
       "    <tr>\n",
       "      <th>58</th>\n",
       "      <td>58</td>\n",
       "      <td>the lies that bind</td>\n",
       "      <td>giffin</td>\n",
       "      <td>emily</td>\n",
       "      <td>11524267</td>\n",
       "    </tr>\n",
       "    <tr>\n",
       "      <th>10066</th>\n",
       "      <td>10066</td>\n",
       "      <td>always my dad</td>\n",
       "      <td>wyeth</td>\n",
       "      <td>sharon dennis</td>\n",
       "      <td>269518</td>\n",
       "    </tr>\n",
       "    <tr>\n",
       "      <th>7784</th>\n",
       "      <td>7784</td>\n",
       "      <td>the elephant alphabet book</td>\n",
       "      <td>yates</td>\n",
       "      <td>gene</td>\n",
       "      <td>1498767</td>\n",
       "    </tr>\n",
       "    <tr>\n",
       "      <th>422</th>\n",
       "      <td>422</td>\n",
       "      <td>signing exact english</td>\n",
       "      <td>gustason</td>\n",
       "      <td>gerilee</td>\n",
       "      <td>530316</td>\n",
       "    </tr>\n",
       "    <tr>\n",
       "      <th>2691</th>\n",
       "      <td>2691</td>\n",
       "      <td>the night before christmas the classic edition</td>\n",
       "      <td>moore</td>\n",
       "      <td>clement clarke</td>\n",
       "      <td>447041</td>\n",
       "    </tr>\n",
       "    <tr>\n",
       "      <th>2804</th>\n",
       "      <td>2804</td>\n",
       "      <td>the mighty miss malone</td>\n",
       "      <td>curtis</td>\n",
       "      <td>christopher paul</td>\n",
       "      <td>11288619</td>\n",
       "    </tr>\n",
       "    <tr>\n",
       "      <th>8677</th>\n",
       "      <td>8677</td>\n",
       "      <td>when grandma came</td>\n",
       "      <td>paton walsh</td>\n",
       "      <td>jill</td>\n",
       "      <td>962445</td>\n",
       "    </tr>\n",
       "    <tr>\n",
       "      <th>9990</th>\n",
       "      <td>9990</td>\n",
       "      <td>plain jane</td>\n",
       "      <td>michaels</td>\n",
       "      <td>fern</td>\n",
       "      <td>431396</td>\n",
       "    </tr>\n",
       "  </tbody>\n",
       "</table>\n",
       "</div>"
      ],
      "text/plain": [
       "       Unnamed: 0                                              title  \\\n",
       "10208       10208  sales questions that close every deal 1 000 fi...   \n",
       "192           192                               americas sewing book   \n",
       "58             58                                 the lies that bind   \n",
       "10066       10066                                      always my dad   \n",
       "7784         7784                         the elephant alphabet book   \n",
       "422           422                              signing exact english   \n",
       "2691         2691     the night before christmas the classic edition   \n",
       "2804         2804                             the mighty miss malone   \n",
       "8677         8677                                  when grandma came   \n",
       "9990         9990                                         plain jane   \n",
       "\n",
       "        author_last        author_first     gr_id  \n",
       "10208  gschwandtner            gerhard      23183  \n",
       "192             ley             sandra    6396253  \n",
       "58           giffin               emily  11524267  \n",
       "10066         wyeth       sharon dennis    269518  \n",
       "7784          yates                gene   1498767  \n",
       "422        gustason            gerilee     530316  \n",
       "2691          moore      clement clarke    447041  \n",
       "2804         curtis   christopher paul   11288619  \n",
       "8677    paton walsh                jill    962445  \n",
       "9990       michaels               fern     431396  "
      ]
     },
     "execution_count": 57,
     "metadata": {},
     "output_type": "execute_result"
    }
   ],
   "source": [
    "inv_df.sample(10)"
   ]
  },
  {
   "cell_type": "code",
   "execution_count": 85,
   "id": "f8852875",
   "metadata": {},
   "outputs": [],
   "source": [
    "def find_by_index(index):\n",
    "    return titles[titles['goodreads_id'] == f'{index}']['cover_image'].values[0]"
   ]
  },
  {
   "cell_type": "code",
   "execution_count": 86,
   "id": "e704b99b",
   "metadata": {},
   "outputs": [
    {
     "data": {
      "text/plain": [
       "'https://s.gr-assets.com/assets/nophoto/book/111x148-bcc042a9c91a29c1d680899eff700a03.png'"
      ]
     },
     "execution_count": 86,
     "metadata": {},
     "output_type": "execute_result"
    }
   ],
   "source": [
    "find_by_index(23183)"
   ]
  },
  {
   "cell_type": "code",
   "execution_count": 87,
   "id": "079c4412",
   "metadata": {
    "scrolled": true
   },
   "outputs": [],
   "source": [
    "inv_df['cover_img_url'] = inv_df['gr_id'].apply(find_by_index)"
   ]
  },
  {
   "cell_type": "code",
   "execution_count": 90,
   "id": "2b769499",
   "metadata": {
    "scrolled": true
   },
   "outputs": [
    {
     "data": {
      "text/html": [
       "<div>\n",
       "<style scoped>\n",
       "    .dataframe tbody tr th:only-of-type {\n",
       "        vertical-align: middle;\n",
       "    }\n",
       "\n",
       "    .dataframe tbody tr th {\n",
       "        vertical-align: top;\n",
       "    }\n",
       "\n",
       "    .dataframe thead th {\n",
       "        text-align: right;\n",
       "    }\n",
       "</style>\n",
       "<table border=\"1\" class=\"dataframe\">\n",
       "  <thead>\n",
       "    <tr style=\"text-align: right;\">\n",
       "      <th></th>\n",
       "      <th>Unnamed: 0</th>\n",
       "      <th>title</th>\n",
       "      <th>author_last</th>\n",
       "      <th>author_first</th>\n",
       "      <th>gr_id</th>\n",
       "      <th>cover_img_url</th>\n",
       "    </tr>\n",
       "  </thead>\n",
       "  <tbody>\n",
       "    <tr>\n",
       "      <th>8740</th>\n",
       "      <td>8740</td>\n",
       "      <td>meet josefina an american girl</td>\n",
       "      <td>tripp</td>\n",
       "      <td>valerie</td>\n",
       "      <td>722946</td>\n",
       "      <td>https://images.gr-assets.com/books/1375159319m...</td>\n",
       "    </tr>\n",
       "    <tr>\n",
       "      <th>11341</th>\n",
       "      <td>11341</td>\n",
       "      <td>strange animals</td>\n",
       "      <td>whitcombe</td>\n",
       "      <td>bobbie</td>\n",
       "      <td>3023338</td>\n",
       "      <td>https://s.gr-assets.com/assets/nophoto/book/11...</td>\n",
       "    </tr>\n",
       "    <tr>\n",
       "      <th>8771</th>\n",
       "      <td>8771</td>\n",
       "      <td>deadly decisions</td>\n",
       "      <td>reichs</td>\n",
       "      <td>kathleen j</td>\n",
       "      <td>15720979</td>\n",
       "      <td>https://images.gr-assets.com/books/1340577803m...</td>\n",
       "    </tr>\n",
       "    <tr>\n",
       "      <th>3391</th>\n",
       "      <td>3391</td>\n",
       "      <td>the wailing wind</td>\n",
       "      <td>hillerman</td>\n",
       "      <td>tony</td>\n",
       "      <td>24874341</td>\n",
       "      <td>https://images.gr-assets.com/books/1423751051m...</td>\n",
       "    </tr>\n",
       "    <tr>\n",
       "      <th>773</th>\n",
       "      <td>773</td>\n",
       "      <td>pete the cat the wheels on the bus</td>\n",
       "      <td>dean</td>\n",
       "      <td>james</td>\n",
       "      <td>859744</td>\n",
       "      <td>https://images.gr-assets.com/books/1309213567m...</td>\n",
       "    </tr>\n",
       "    <tr>\n",
       "      <th>1838</th>\n",
       "      <td>1838</td>\n",
       "      <td>my friend maggie</td>\n",
       "      <td>harrison</td>\n",
       "      <td>hannah e</td>\n",
       "      <td>27833832</td>\n",
       "      <td>https://images.gr-assets.com/books/1453059498m...</td>\n",
       "    </tr>\n",
       "    <tr>\n",
       "      <th>8330</th>\n",
       "      <td>8330</td>\n",
       "      <td>ageless body timeless mind the quantum alterna...</td>\n",
       "      <td>chopra</td>\n",
       "      <td>deepak</td>\n",
       "      <td>836512</td>\n",
       "      <td>https://images.gr-assets.com/books/1333578683m...</td>\n",
       "    </tr>\n",
       "    <tr>\n",
       "      <th>4242</th>\n",
       "      <td>4242</td>\n",
       "      <td>mrs mcnosh and the great big squash</td>\n",
       "      <td>weeks</td>\n",
       "      <td>sarah</td>\n",
       "      <td>1059041</td>\n",
       "      <td>https://images.gr-assets.com/books/1358747130m...</td>\n",
       "    </tr>\n",
       "    <tr>\n",
       "      <th>6427</th>\n",
       "      <td>6427</td>\n",
       "      <td>ricky ricottas giant robot vs the mutant mosqu...</td>\n",
       "      <td>pilkey</td>\n",
       "      <td>dav</td>\n",
       "      <td>532634</td>\n",
       "      <td>https://s.gr-assets.com/assets/nophoto/book/11...</td>\n",
       "    </tr>\n",
       "    <tr>\n",
       "      <th>1615</th>\n",
       "      <td>1615</td>\n",
       "      <td>dangerous</td>\n",
       "      <td>hale</td>\n",
       "      <td>shannon</td>\n",
       "      <td>8585924</td>\n",
       "      <td>https://images.gr-assets.com/books/1369672030m...</td>\n",
       "    </tr>\n",
       "  </tbody>\n",
       "</table>\n",
       "</div>"
      ],
      "text/plain": [
       "       Unnamed: 0                                              title  \\\n",
       "8740         8740                     meet josefina an american girl   \n",
       "11341       11341                                    strange animals   \n",
       "8771         8771                                   deadly decisions   \n",
       "3391         3391                                   the wailing wind   \n",
       "773           773                 pete the cat the wheels on the bus   \n",
       "1838         1838                                   my friend maggie   \n",
       "8330         8330  ageless body timeless mind the quantum alterna...   \n",
       "4242         4242                mrs mcnosh and the great big squash   \n",
       "6427         6427  ricky ricottas giant robot vs the mutant mosqu...   \n",
       "1615         1615                                          dangerous   \n",
       "\n",
       "      author_last  author_first     gr_id  \\\n",
       "8740        tripp       valerie    722946   \n",
       "11341   whitcombe       bobbie    3023338   \n",
       "8771       reichs   kathleen j   15720979   \n",
       "3391    hillerman         tony   24874341   \n",
       "773          dean         james    859744   \n",
       "1838     harrison     hannah e   27833832   \n",
       "8330       chopra        deepak    836512   \n",
       "4242        weeks        sarah    1059041   \n",
       "6427       pilkey           dav    532634   \n",
       "1615         hale      shannon    8585924   \n",
       "\n",
       "                                           cover_img_url  \n",
       "8740   https://images.gr-assets.com/books/1375159319m...  \n",
       "11341  https://s.gr-assets.com/assets/nophoto/book/11...  \n",
       "8771   https://images.gr-assets.com/books/1340577803m...  \n",
       "3391   https://images.gr-assets.com/books/1423751051m...  \n",
       "773    https://images.gr-assets.com/books/1309213567m...  \n",
       "1838   https://images.gr-assets.com/books/1453059498m...  \n",
       "8330   https://images.gr-assets.com/books/1333578683m...  \n",
       "4242   https://images.gr-assets.com/books/1358747130m...  \n",
       "6427   https://s.gr-assets.com/assets/nophoto/book/11...  \n",
       "1615   https://images.gr-assets.com/books/1369672030m...  "
      ]
     },
     "execution_count": 90,
     "metadata": {},
     "output_type": "execute_result"
    }
   ],
   "source": [
    "inv_df.sample(10)"
   ]
  },
  {
   "cell_type": "code",
   "execution_count": 91,
   "id": "92d8a4de",
   "metadata": {},
   "outputs": [],
   "source": [
    "inv_df.to_csv('inv_data_gr.csv')"
   ]
  }
 ],
 "metadata": {
  "kernelspec": {
   "display_name": "Python 3 (ipykernel)",
   "language": "python",
   "name": "python3"
  },
  "language_info": {
   "codemirror_mode": {
    "name": "ipython",
    "version": 3
   },
   "file_extension": ".py",
   "mimetype": "text/x-python",
   "name": "python",
   "nbconvert_exporter": "python",
   "pygments_lexer": "ipython3",
   "version": "3.9.12"
  }
 },
 "nbformat": 4,
 "nbformat_minor": 5
}
